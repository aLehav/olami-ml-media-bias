{
 "cells": [
  {
   "cell_type": "code",
   "execution_count": 1,
   "metadata": {},
   "outputs": [
    {
     "ename": "ModuleNotFoundError",
     "evalue": "No module named 'article_splitter'",
     "output_type": "error",
     "traceback": [
      "\u001b[0;31m---------------------------------------------------------------------------\u001b[0m",
      "\u001b[0;31mModuleNotFoundError\u001b[0m                       Traceback (most recent call last)",
      "Cell \u001b[0;32mIn[1], line 1\u001b[0m\n\u001b[0;32m----> 1\u001b[0m \u001b[39mfrom\u001b[39;00m \u001b[39marticle_splitter\u001b[39;00m \u001b[39mimport\u001b[39;00m split_csv_by_article\n\u001b[1;32m      2\u001b[0m split_csv_by_article(\u001b[39m'\u001b[39m\u001b[39m/Users/noahkornfeld/olami_internal/olami-paper-rep/olami-ml-media-bias/10k_articles.csv\u001b[39m\u001b[39m'\u001b[39m, \u001b[39m'\u001b[39m\u001b[39m/Users/noahkornfeld/olami_internal/olami-paper-rep/olami-ml-media-bias/10K_articles\u001b[39m\u001b[39m'\u001b[39m)\n\u001b[1;32m      4\u001b[0m \u001b[39mfrom\u001b[39;00m \u001b[39mmit_news_classify\u001b[39;00m \u001b[39mimport\u001b[39;00m NewsClassifier\n",
      "\u001b[0;31mModuleNotFoundError\u001b[0m: No module named 'article_splitter'"
     ]
    }
   ],
   "source": [
    "from article_splitter import split_csv_by_article\n",
    "split_csv_by_article('/Users/noahkornfeld/olami_internal/olami-paper-rep/olami-ml-media-bias/10k_articles.csv', '/Users/noahkornfeld/olami_internal/olami-paper-rep/olami-ml-media-bias/10K_articles')\n",
    "\n"
   ]
  },
  {
   "cell_type": "code",
   "execution_count": 15,
   "metadata": {},
   "outputs": [],
   "source": [
    "from article_processing import process_csv_file\n",
    "input_file_path = '/Users/noahkornfeld/olami_internal/olami-paper-rep/olami-ml-media-bias/10k_articles.csv'\n",
    "output_file_path = '/Users/noahkornfeld/olami_internal/olami-paper-rep/olami-ml-media-bias/10k_articles_formatted.csv'\n",
    "\n",
    "process_csv_file(input_file_path, output_file_path)\n"
   ]
  },
  {
   "cell_type": "code",
   "execution_count": 3,
   "metadata": {},
   "outputs": [],
   "source": [
    "\n",
    "import pandas as pd\n",
    "from phrase_extraction_utils.initial_extraction import get_common_phrases\n",
    "\n",
    "file_path = '10k_articles_formatted.csv'\n",
    "df = pd.read_csv(file_path)\n",
    "\n",
    "# Ensure the column name matches your CSV file\n",
    "articles_column = 'content'\n",
    "\n",
    "\n",
    "common_phrases = get_common_phrases(file_path)\n",
    "common_phrases_df = pd.DataFrame({'Common Phrases': common_phrases})\n",
    "\n",
    "# Save common_phrases_df to a new CSV file\n",
    "common_phrases_csv_path = 'initial_phrases.csv'\n",
    "common_phrases_df.to_csv(common_phrases_csv_path, index=False)"
   ]
  }
 ],
 "metadata": {
  "kernelspec": {
   "display_name": "base",
   "language": "python",
   "name": "python3"
  },
  "language_info": {
   "codemirror_mode": {
    "name": "ipython",
    "version": 3
   },
   "file_extension": ".py",
   "mimetype": "text/x-python",
   "name": "python",
   "nbconvert_exporter": "python",
   "pygments_lexer": "ipython3",
   "version": "3.11.6"
  },
  "orig_nbformat": 4
 },
 "nbformat": 4,
 "nbformat_minor": 2
}
