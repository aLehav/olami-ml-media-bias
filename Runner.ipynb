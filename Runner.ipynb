{
 "cells": [
  {
   "cell_type": "code",
   "execution_count": 8,
   "metadata": {},
   "outputs": [],
   "source": [
    "from article_splitter import split_csv_by_article\n",
    "split_csv_by_article('/Users/noahkornfeld/olami_internal/olami-paper-rep/olami-ml-media-bias/10k_articles.csv', '/Users/noahkornfeld/olami_internal/olami-paper-rep/olami-ml-media-bias/10K_articles')\n"
   ]
  },
  {
   "cell_type": "code",
   "execution_count": 15,
   "metadata": {},
   "outputs": [],
   "source": [
    "from article_processing import process_csv_file\n",
    "input_file_path = '/Users/noahkornfeld/olami_internal/olami-paper-rep/olami-ml-media-bias/10k_articles.csv'\n",
    "output_file_path = '/Users/noahkornfeld/olami_internal/olami-paper-rep/olami-ml-media-bias/10k_articles_formatted.csv'\n",
    "\n",
    "process_csv_file(input_file_path, output_file_path)\n"
   ]
  },
  {
   "cell_type": "code",
   "execution_count": 13,
   "metadata": {},
   "outputs": [
    {
     "name": "stdout",
     "output_type": "stream",
     "text": [
      "Current Working Directory: /Users/noahkornfeld/olami_internal/olami-paper-rep/olami-ml-media-bias\n"
     ]
    }
   ],
   "source": [
    "import os\n",
    "print(\"Current Working Directory:\", os.getcwd())\n"
   ]
  }
 ],
 "metadata": {
  "kernelspec": {
   "display_name": "base",
   "language": "python",
   "name": "python3"
  },
  "language_info": {
   "codemirror_mode": {
    "name": "ipython",
    "version": 3
   },
   "file_extension": ".py",
   "mimetype": "text/x-python",
   "name": "python",
   "nbconvert_exporter": "python",
   "pygments_lexer": "ipython3",
   "version": "3.11.0"
  },
  "orig_nbformat": 4
 },
 "nbformat": 4,
 "nbformat_minor": 2
}
